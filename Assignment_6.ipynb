{
 "cells": [
  {
   "cell_type": "markdown",
   "metadata": {},
   "source": [
    "# Assignment Session 6 - Spark SQL and Dataframes"
   ]
  },
  {
   "cell_type": "markdown",
   "metadata": {},
   "source": [
    "## Importing Spark Libraries and Creating Spark Session"
   ]
  },
  {
   "cell_type": "code",
   "execution_count": 6,
   "metadata": {},
   "outputs": [],
   "source": [
    "import pyspark\n",
    "import wget"
   ]
  },
  {
   "cell_type": "code",
   "execution_count": 2,
   "metadata": {},
   "outputs": [],
   "source": [
    "from pyspark.sql import SparkSession"
   ]
  },
  {
   "cell_type": "code",
   "execution_count": 3,
   "metadata": {},
   "outputs": [],
   "source": [
    "spark = SparkSession.builder \\\n",
    "    .master(\"local[*]\") \\\n",
    "    .appName(\"assignment_6\") \\\n",
    "    .getOrCreate()"
   ]
  },
  {
   "cell_type": "code",
   "execution_count": 4,
   "metadata": {},
   "outputs": [
    {
     "data": {
      "text/html": [
       "\n",
       "            <div>\n",
       "                <p><b>SparkSession - in-memory</b></p>\n",
       "                \n",
       "        <div>\n",
       "            <p><b>SparkContext</b></p>\n",
       "\n",
       "            <p><a href=\"http://host.docker.internal:4041\">Spark UI</a></p>\n",
       "\n",
       "            <dl>\n",
       "              <dt>Version</dt>\n",
       "                <dd><code>v3.3.0</code></dd>\n",
       "              <dt>Master</dt>\n",
       "                <dd><code>local[*]</code></dd>\n",
       "              <dt>AppName</dt>\n",
       "                <dd><code>assignment_6</code></dd>\n",
       "            </dl>\n",
       "        </div>\n",
       "        \n",
       "            </div>\n",
       "        "
      ],
      "text/plain": [
       "<pyspark.sql.session.SparkSession at 0x15e2f470700>"
      ]
     },
     "execution_count": 4,
     "metadata": {},
     "output_type": "execute_result"
    }
   ],
   "source": [
    "spark"
   ]
  },
  {
   "cell_type": "markdown",
   "metadata": {},
   "source": [
    "## Load the Data"
   ]
  },
  {
   "cell_type": "markdown",
   "metadata": {},
   "source": [
    "### Yellow Taxi Tripdata February 2021"
   ]
  },
  {
   "cell_type": "code",
   "execution_count": 23,
   "metadata": {},
   "outputs": [
    {
     "name": "stdout",
     "output_type": "stream",
     "text": [
      "+--------+--------------------+---------------------+---------------+-------------+----------+------------------+------------+------------+------------+-----------+-----+-------+----------+------------+---------------------+------------+--------------------+-----------+\n",
      "|VendorID|tpep_pickup_datetime|tpep_dropoff_datetime|passenger_count|trip_distance|RatecodeID|store_and_fwd_flag|PULocationID|DOLocationID|payment_type|fare_amount|extra|mta_tax|tip_amount|tolls_amount|improvement_surcharge|total_amount|congestion_surcharge|airport_fee|\n",
      "+--------+--------------------+---------------------+---------------+-------------+----------+------------------+------------+------------+------------+-----------+-----+-------+----------+------------+---------------------+------------+--------------------+-----------+\n",
      "|       1| 2021-02-01 07:40:47|  2021-02-01 07:48:28|            1.0|          2.3|       1.0|                 N|         141|         226|           2|        8.5|  3.0|    0.5|       0.0|         0.0|                  0.3|        12.3|                 2.5|       null|\n",
      "|       1| 2021-02-01 07:07:44|  2021-02-01 07:20:31|            1.0|          1.6|       1.0|                 N|          43|         263|           2|        9.5|  3.0|    0.5|       0.0|         0.0|                  0.3|        13.3|                 0.0|       null|\n",
      "|       1| 2021-02-01 07:59:36|  2021-02-01 08:24:13|            1.0|          5.3|       1.0|                 N|         114|         263|           2|       19.0|  3.0|    0.5|       0.0|         0.0|                  0.3|        22.8|                 2.5|       null|\n",
      "|       2| 2021-02-01 07:03:26|  2021-02-01 07:16:32|            1.0|         2.79|       1.0|                 N|         236|         229|           1|       11.0|  0.5|    0.5|      2.96|         0.0|                  0.3|       17.76|                 2.5|       null|\n",
      "|       2| 2021-02-01 07:20:20|  2021-02-01 07:24:03|            2.0|         0.64|       1.0|                 N|         229|         140|           1|        4.5|  0.5|    0.5|      1.66|         0.0|                  0.3|        9.96|                 2.5|       null|\n",
      "|       2| 2021-02-01 07:55:03|  2021-02-01 08:03:39|            1.0|         1.97|       1.0|                 N|         238|          75|           1|        8.5|  0.5|    0.5|      1.96|         0.0|                  0.3|       11.76|                 0.0|       null|\n",
      "|       1| 2021-02-01 07:09:22|  2021-02-01 07:53:48|            1.0|         26.6|       1.0|                 N|         132|         200|           1|       69.0|  0.5|    0.5|       0.0|        6.12|                  0.3|       76.42|                 0.0|       null|\n",
      "|       2| 2021-02-01 07:52:15|  2021-02-01 08:16:24|            4.0|         6.07|       1.0|                 N|         249|         181|           1|       21.0|  0.5|    0.5|       6.2|         0.0|                  0.3|        31.0|                 2.5|       null|\n",
      "|       1| 2021-02-01 07:08:29|  2021-02-01 07:21:22|            1.0|          2.0|       1.0|                 N|          79|         246|           1|        9.0|  3.0|    0.5|       3.2|         0.0|                  0.3|        16.0|                 2.5|       null|\n",
      "|       1| 2021-02-01 07:28:13|  2021-02-01 07:31:40|            1.0|          0.8|       1.0|                 Y|          75|          74|           2|        5.0|  0.5|    0.5|       0.0|         0.0|                  0.3|         6.3|                 0.0|       null|\n",
      "|       1| 2021-02-01 07:17:42|  2021-02-01 07:28:23|            1.0|          2.1|       1.0|                 N|          74|          24|           2|        9.0|  0.5|    0.5|       0.0|         0.0|                  0.3|        10.3|                 0.0|       null|\n",
      "|       1| 2021-02-01 07:25:10|  2021-02-01 07:25:38|            1.0|          0.0|       1.0|                 N|         113|         113|           4|        2.5|  3.0|    0.5|       0.0|         0.0|                  0.3|         6.3|                 2.5|       null|\n",
      "|       1| 2021-02-01 07:23:48|  2021-02-01 07:34:59|            1.0|          2.8|       1.0|                 N|          90|         229|           1|       11.0|  3.0|    0.5|       3.7|         0.0|                  0.3|        18.5|                 2.5|       null|\n",
      "|       2| 2021-02-01 07:18:31|  2021-02-01 07:46:45|            1.0|         8.08|       1.0|                 N|          75|          88|           1|       26.5|  0.5|    0.5|      6.06|         0.0|                  0.3|       36.36|                 2.5|       null|\n",
      "|       2| 2021-02-01 07:33:38|  2021-02-01 07:55:59|            2.0|         6.41|       1.0|                 N|         132|         122|           2|       21.0|  0.5|    0.5|       0.0|         0.0|                  0.3|        22.3|                 0.0|       null|\n",
      "|       2| 2021-02-01 07:34:13|  2021-02-01 07:42:13|            1.0|         1.53|       1.0|                 N|         170|          48|           2|        7.5|  0.5|    0.5|       0.0|         0.0|                  0.3|        11.3|                 2.5|       null|\n",
      "|       1| 2021-02-01 07:33:17|  2021-02-01 07:33:17|            1.0|          0.0|       5.0|                 Y|         260|         264|           2|        0.0|  0.0|    0.0|       0.0|         0.0|                  0.0|         0.0|                 0.0|       null|\n",
      "|       2| 2021-02-01 07:17:53|  2021-02-01 07:30:23|            1.0|         2.72|       1.0|                 N|         142|          90|           1|       11.0|  0.5|    0.5|      2.96|         0.0|                  0.3|       17.76|                 2.5|       null|\n",
      "|       2| 2021-02-01 07:38:17|  2021-02-01 07:46:53|            1.0|         1.72|       1.0|                 N|          68|         249|           1|        7.5|  0.5|    0.5|      2.26|         0.0|                  0.3|       13.56|                 2.5|       null|\n",
      "|       2| 2021-02-01 07:06:33|  2021-02-01 07:13:56|            1.0|         2.42|       1.0|                 N|          79|         256|           4|       -9.0| -0.5|   -0.5|       0.0|         0.0|                 -0.3|       -12.8|                -2.5|       null|\n",
      "+--------+--------------------+---------------------+---------------+-------------+----------+------------------+------------+------------+------------+-----------+-----+-------+----------+------------+---------------------+------------+--------------------+-----------+\n",
      "only showing top 20 rows\n",
      "\n"
     ]
    }
   ],
   "source": [
    "df_yellow = spark.read.parquet(wget.download(\"https://d37ci6vzurychx.cloudfront.net/trip-data/yellow_tripdata_2021-02.parquet\"))\n",
    "df_yellow.show()"
   ]
  },
  {
   "cell_type": "markdown",
   "metadata": {},
   "source": [
    "### Green Taxi Tripdata February 2021"
   ]
  },
  {
   "cell_type": "code",
   "execution_count": 24,
   "metadata": {},
   "outputs": [
    {
     "name": "stdout",
     "output_type": "stream",
     "text": [
      "+--------+--------------------+---------------------+------------------+----------+------------+------------+---------------+-------------+-----------+-----+-------+----------+------------+---------+---------------------+------------+------------+---------+--------------------+\n",
      "|VendorID|lpep_pickup_datetime|lpep_dropoff_datetime|store_and_fwd_flag|RatecodeID|PULocationID|DOLocationID|passenger_count|trip_distance|fare_amount|extra|mta_tax|tip_amount|tolls_amount|ehail_fee|improvement_surcharge|total_amount|payment_type|trip_type|congestion_surcharge|\n",
      "+--------+--------------------+---------------------+------------------+----------+------------+------------+---------------+-------------+-----------+-----+-------+----------+------------+---------+---------------------+------------+------------+---------+--------------------+\n",
      "|       2| 2021-02-01 07:34:03|  2021-02-01 07:51:58|                 N|       1.0|         130|         205|            5.0|         3.66|       14.0|  0.5|    0.5|      10.0|         0.0|     null|                  0.3|        25.3|         1.0|      1.0|                 0.0|\n",
      "|       2| 2021-02-01 07:04:00|  2021-02-01 07:10:30|                 N|       1.0|         152|         244|            1.0|          1.1|        6.5|  0.5|    0.5|       0.0|         0.0|     null|                  0.3|         7.8|         2.0|      1.0|                 0.0|\n",
      "|       2| 2021-02-01 07:18:51|  2021-02-01 07:34:06|                 N|       1.0|         152|          48|            1.0|         4.93|       16.5|  0.5|    0.5|       0.0|         0.0|     null|                  0.3|       20.55|         2.0|      1.0|                2.75|\n",
      "|       2| 2021-02-01 07:53:27|  2021-02-01 08:11:41|                 N|       1.0|         152|         241|            1.0|          6.7|       21.0|  0.5|    0.5|       0.0|         0.0|     null|                  0.3|        22.3|         2.0|      1.0|                 0.0|\n",
      "|       2| 2021-02-01 07:57:46|  2021-02-01 08:06:44|                 N|       1.0|          75|          42|            1.0|         1.89|        8.5|  0.5|    0.5|      2.45|         0.0|     null|                  0.3|       12.25|         1.0|      1.0|                 0.0|\n",
      "|       2| 2021-02-01 07:33:03|  2021-02-01 07:40:54|                 N|       5.0|         197|         219|            1.0|          3.3|       15.0|  0.0|    0.0|      0.76|         0.0|     null|                  0.3|       16.06|         1.0|      2.0|                 0.0|\n",
      "|       2| 2021-02-01 07:18:43|  2021-02-01 07:28:25|                 N|       1.0|          82|         223|            1.0|         2.51|       10.0|  0.5|    0.5|       1.5|         0.0|     null|                  0.3|        12.8|         1.0|      1.0|                 0.0|\n",
      "|       2| 2021-02-01 07:06:50|  2021-02-01 07:18:07|                 N|       1.0|         130|         130|            1.0|         1.68|        9.0|  0.5|    0.5|      5.08|         0.0|     null|                  0.3|       15.38|         1.0|      1.0|                 0.0|\n",
      "|       2| 2021-02-01 08:25:20|  2021-02-01 08:34:04|                 N|       1.0|          94|         241|            1.0|         1.44|        7.5|  0.5|    0.5|       0.0|         0.0|     null|                  0.3|         8.8|         2.0|      1.0|                 0.0|\n",
      "|       2| 2021-02-01 09:56:55|  2021-02-01 09:58:38|                 N|       5.0|          78|          78|            1.0|          0.0|       24.0|  0.0|    0.0|       0.0|         0.0|     null|                  0.3|        24.3|         2.0|      2.0|                 0.0|\n",
      "|       2| 2021-02-01 09:53:46|  2021-02-01 10:05:34|                 N|       1.0|         181|         195|            1.0|          1.9|        9.0|  0.5|    0.5|       0.0|         0.0|     null|                  0.3|        10.3|         2.0|      1.0|                 0.0|\n",
      "|       2| 2021-02-01 09:34:48|  2021-02-01 09:44:34|                 N|       1.0|         127|         241|            1.0|          1.9|        9.5|  0.5|    0.5|       0.0|         0.0|     null|                  0.3|        10.8|         1.0|      1.0|                 0.0|\n",
      "|       2| 2021-02-01 09:32:28|  2021-02-01 09:42:36|                 N|       1.0|          75|         238|            1.0|         1.73|        8.5|  0.5|    0.5|       0.0|         0.0|     null|                  0.3|       12.55|         2.0|      1.0|                2.75|\n",
      "|       2| 2021-02-01 10:40:41|  2021-02-01 10:44:49|                 N|       1.0|         152|         116|            2.0|         0.94|        5.5|  0.5|    0.5|       0.0|         0.0|     null|                  0.3|         6.8|         2.0|      1.0|                 0.0|\n",
      "|       2| 2021-02-01 10:58:34|  2021-02-01 11:06:28|                 N|       1.0|         244|         235|            1.0|         3.24|       11.0|  0.5|    0.5|       0.0|         0.0|     null|                  0.3|        12.3|         2.0|      1.0|                 0.0|\n",
      "|       2| 2021-02-01 11:46:50|  2021-02-01 11:55:50|                 N|       1.0|         244|         247|            1.0|         1.67|        8.5|  0.5|    0.5|       0.0|         0.0|     null|                  0.3|         9.8|         2.0|      1.0|                 0.0|\n",
      "|       2| 2021-02-01 11:59:12|  2021-02-01 12:05:25|                 N|       1.0|         169|         119|            1.0|          1.2|        6.5|  0.5|    0.5|       0.0|         0.0|     null|                  0.3|         7.8|         2.0|      1.0|                 0.0|\n",
      "|       2| 2021-02-01 10:59:27|  2021-02-01 10:59:34|                 N|       5.0|         136|         136|            1.0|         0.19|       10.0|  0.0|    0.0|       0.3|         0.0|     null|                  0.3|        10.6|         1.0|      2.0|                 0.0|\n",
      "|       2| 2021-02-01 11:09:11|  2021-02-01 11:09:15|                 N|       5.0|         116|         116|            2.0|          0.0|        7.0|  0.0|    0.0|       0.0|         0.0|     null|                  0.3|         7.3|         2.0|      2.0|                 0.0|\n",
      "|       2| 2021-02-01 12:11:56|  2021-02-01 12:17:39|                 N|       1.0|         119|         243|            1.0|         0.93|        6.0|  0.5|    0.5|       0.0|         0.0|     null|                  0.3|         7.3|         2.0|      1.0|                 0.0|\n",
      "+--------+--------------------+---------------------+------------------+----------+------------+------------+---------------+-------------+-----------+-----+-------+----------+------------+---------+---------------------+------------+------------+---------+--------------------+\n",
      "only showing top 20 rows\n",
      "\n"
     ]
    }
   ],
   "source": [
    "df_green = spark.read.parquet(wget.download(\"https://d37ci6vzurychx.cloudfront.net/trip-data/green_tripdata_2021-02.parquet\"))\n",
    "df_green.show()"
   ]
  },
  {
   "cell_type": "markdown",
   "metadata": {},
   "source": [
    "### For Hire Vehicle Tripdata February 2021"
   ]
  },
  {
   "cell_type": "code",
   "execution_count": 15,
   "metadata": {},
   "outputs": [
    {
     "name": "stdout",
     "output_type": "stream",
     "text": [
      "+--------------------+-------------------+-------------------+------------+------------+-------+----------------------+\n",
      "|dispatching_base_num|    pickup_datetime|   dropOff_datetime|PUlocationID|DOlocationID|SR_Flag|Affiliated_base_number|\n",
      "+--------------------+-------------------+-------------------+------------+------------+-------+----------------------+\n",
      "|              B00013|2021-02-01 07:01:00|2021-02-01 08:33:00|        null|        null|   null|                B00014|\n",
      "|     B00021         |2021-02-01 07:55:40|2021-02-01 08:06:20|       173.0|        82.0|   null|       B00021         |\n",
      "|     B00021         |2021-02-01 07:14:03|2021-02-01 07:28:37|       173.0|        56.0|   null|       B00021         |\n",
      "|     B00021         |2021-02-01 07:27:48|2021-02-01 07:35:45|        82.0|       129.0|   null|       B00021         |\n",
      "|              B00037|2021-02-01 07:12:50|2021-02-01 07:26:38|        null|       225.0|   null|                B00037|\n",
      "|              B00037|2021-02-01 07:00:37|2021-02-01 07:09:35|        null|        61.0|   null|                B00037|\n",
      "|              B00112|2021-02-01 07:30:25|2021-02-01 07:57:23|        null|        26.0|   null|                B00112|\n",
      "|              B00149|2021-02-01 07:43:16|2021-02-01 08:03:16|        null|        72.0|   null|                B00149|\n",
      "|              B00221|2021-02-01 07:20:45|2021-02-01 07:21:15|        null|       244.0|   null|                B00221|\n",
      "|              B00225|2021-02-01 07:23:27|2021-02-01 07:55:46|        null|       169.0|   null|                B00225|\n",
      "|              B00225|2021-02-01 07:10:38|2021-02-01 07:50:15|        null|       161.0|   null|                B02872|\n",
      "|              B00254|2021-02-01 07:05:46|2021-02-01 07:40:41|        13.0|       182.0|   null|                B00254|\n",
      "|              B00254|2021-02-01 07:14:25|2021-02-01 07:24:56|       152.0|       244.0|   null|                B02872|\n",
      "|              B00256|2021-02-01 07:30:43|2021-02-01 08:32:39|        null|        null|   null|                B00256|\n",
      "|              B00256|2021-02-01 07:39:11|2021-02-01 08:18:44|        null|        null|   null|                B00256|\n",
      "|              B00256|2021-02-01 07:33:24|2021-02-01 08:23:44|        null|        null|   null|                B00256|\n",
      "|              B00256|2021-02-01 07:05:19|2021-02-01 07:24:40|        null|        null|   null|                B00256|\n",
      "|              B00271|2021-02-01 07:04:07|2021-02-01 08:03:03|        null|       265.0|   null|                B00271|\n",
      "|              B00271|2021-02-01 07:07:13|2021-02-01 07:08:49|        null|       237.0|   null|                B00271|\n",
      "|              B00310|2021-02-01 07:11:21|2021-02-01 07:15:44|        null|       248.0|   null|                B00310|\n",
      "+--------------------+-------------------+-------------------+------------+------------+-------+----------------------+\n",
      "only showing top 20 rows\n",
      "\n"
     ]
    }
   ],
   "source": [
    "df_fhv = spark.read.parquet(wget.download(\"https://d37ci6vzurychx.cloudfront.net/trip-data/fhv_tripdata_2021-02.parquet\"))\n",
    "df_fhv.show()"
   ]
  },
  {
   "cell_type": "markdown",
   "metadata": {},
   "source": [
    "## Union Yellow with Green Taxi Tripdata"
   ]
  },
  {
   "cell_type": "code",
   "execution_count": 28,
   "metadata": {},
   "outputs": [],
   "source": [
    "df_yellow_col = df_yellow.withColumnRenamed('tpep_pickup_datetime', 'pickup_datetime').withColumnRenamed('tpep_dropoff_datetime', 'dropoff_datetime')\n",
    "df_green_col = df_green.withColumnRenamed('lpep_pickup_datetime', 'pickup_datetime').withColumnRenamed('lpep_dropoff_datetime', 'dropoff_datetime')"
   ]
  },
  {
   "cell_type": "code",
   "execution_count": 29,
   "metadata": {},
   "outputs": [],
   "source": [
    "common_columns = []\n",
    "\n",
    "yellow_columns = set(df_yellow_col.columns)\n",
    "\n",
    "for col in df_green_col.columns:\n",
    "    if col in yellow_columns:\n",
    "        common_columns.append(col)"
   ]
  },
  {
   "cell_type": "code",
   "execution_count": 30,
   "metadata": {},
   "outputs": [
    {
     "data": {
      "text/plain": [
       "['VendorID',\n",
       " 'pickup_datetime',\n",
       " 'dropoff_datetime',\n",
       " 'store_and_fwd_flag',\n",
       " 'RatecodeID',\n",
       " 'PULocationID',\n",
       " 'DOLocationID',\n",
       " 'passenger_count',\n",
       " 'trip_distance',\n",
       " 'fare_amount',\n",
       " 'extra',\n",
       " 'mta_tax',\n",
       " 'tip_amount',\n",
       " 'tolls_amount',\n",
       " 'improvement_surcharge',\n",
       " 'total_amount',\n",
       " 'payment_type',\n",
       " 'congestion_surcharge']"
      ]
     },
     "execution_count": 30,
     "metadata": {},
     "output_type": "execute_result"
    }
   ],
   "source": [
    "common_columns"
   ]
  },
  {
   "cell_type": "code",
   "execution_count": 31,
   "metadata": {},
   "outputs": [],
   "source": [
    "from pyspark.sql import functions as F"
   ]
  },
  {
   "cell_type": "code",
   "execution_count": 32,
   "metadata": {},
   "outputs": [
    {
     "name": "stdout",
     "output_type": "stream",
     "text": [
      "+--------+-------------------+-------------------+------------------+----------+------------+------------+---------------+-------------+-----------+-----+-------+----------+------------+---------------------+------------+------------+--------------------+------------+\n",
      "|VendorID|    pickup_datetime|   dropoff_datetime|store_and_fwd_flag|RatecodeID|PULocationID|DOLocationID|passenger_count|trip_distance|fare_amount|extra|mta_tax|tip_amount|tolls_amount|improvement_surcharge|total_amount|payment_type|congestion_surcharge|service_type|\n",
      "+--------+-------------------+-------------------+------------------+----------+------------+------------+---------------+-------------+-----------+-----+-------+----------+------------+---------------------+------------+------------+--------------------+------------+\n",
      "|       2|2021-02-01 07:34:03|2021-02-01 07:51:58|                 N|       1.0|         130|         205|            5.0|         3.66|       14.0|  0.5|    0.5|      10.0|         0.0|                  0.3|        25.3|         1.0|                 0.0|       green|\n",
      "|       2|2021-02-01 07:04:00|2021-02-01 07:10:30|                 N|       1.0|         152|         244|            1.0|          1.1|        6.5|  0.5|    0.5|       0.0|         0.0|                  0.3|         7.8|         2.0|                 0.0|       green|\n",
      "|       2|2021-02-01 07:18:51|2021-02-01 07:34:06|                 N|       1.0|         152|          48|            1.0|         4.93|       16.5|  0.5|    0.5|       0.0|         0.0|                  0.3|       20.55|         2.0|                2.75|       green|\n",
      "|       2|2021-02-01 07:53:27|2021-02-01 08:11:41|                 N|       1.0|         152|         241|            1.0|          6.7|       21.0|  0.5|    0.5|       0.0|         0.0|                  0.3|        22.3|         2.0|                 0.0|       green|\n",
      "|       2|2021-02-01 07:57:46|2021-02-01 08:06:44|                 N|       1.0|          75|          42|            1.0|         1.89|        8.5|  0.5|    0.5|      2.45|         0.0|                  0.3|       12.25|         1.0|                 0.0|       green|\n",
      "|       2|2021-02-01 07:33:03|2021-02-01 07:40:54|                 N|       5.0|         197|         219|            1.0|          3.3|       15.0|  0.0|    0.0|      0.76|         0.0|                  0.3|       16.06|         1.0|                 0.0|       green|\n",
      "|       2|2021-02-01 07:18:43|2021-02-01 07:28:25|                 N|       1.0|          82|         223|            1.0|         2.51|       10.0|  0.5|    0.5|       1.5|         0.0|                  0.3|        12.8|         1.0|                 0.0|       green|\n",
      "|       2|2021-02-01 07:06:50|2021-02-01 07:18:07|                 N|       1.0|         130|         130|            1.0|         1.68|        9.0|  0.5|    0.5|      5.08|         0.0|                  0.3|       15.38|         1.0|                 0.0|       green|\n",
      "|       2|2021-02-01 08:25:20|2021-02-01 08:34:04|                 N|       1.0|          94|         241|            1.0|         1.44|        7.5|  0.5|    0.5|       0.0|         0.0|                  0.3|         8.8|         2.0|                 0.0|       green|\n",
      "|       2|2021-02-01 09:56:55|2021-02-01 09:58:38|                 N|       5.0|          78|          78|            1.0|          0.0|       24.0|  0.0|    0.0|       0.0|         0.0|                  0.3|        24.3|         2.0|                 0.0|       green|\n",
      "|       2|2021-02-01 09:53:46|2021-02-01 10:05:34|                 N|       1.0|         181|         195|            1.0|          1.9|        9.0|  0.5|    0.5|       0.0|         0.0|                  0.3|        10.3|         2.0|                 0.0|       green|\n",
      "|       2|2021-02-01 09:34:48|2021-02-01 09:44:34|                 N|       1.0|         127|         241|            1.0|          1.9|        9.5|  0.5|    0.5|       0.0|         0.0|                  0.3|        10.8|         1.0|                 0.0|       green|\n",
      "|       2|2021-02-01 09:32:28|2021-02-01 09:42:36|                 N|       1.0|          75|         238|            1.0|         1.73|        8.5|  0.5|    0.5|       0.0|         0.0|                  0.3|       12.55|         2.0|                2.75|       green|\n",
      "|       2|2021-02-01 10:40:41|2021-02-01 10:44:49|                 N|       1.0|         152|         116|            2.0|         0.94|        5.5|  0.5|    0.5|       0.0|         0.0|                  0.3|         6.8|         2.0|                 0.0|       green|\n",
      "|       2|2021-02-01 10:58:34|2021-02-01 11:06:28|                 N|       1.0|         244|         235|            1.0|         3.24|       11.0|  0.5|    0.5|       0.0|         0.0|                  0.3|        12.3|         2.0|                 0.0|       green|\n",
      "|       2|2021-02-01 11:46:50|2021-02-01 11:55:50|                 N|       1.0|         244|         247|            1.0|         1.67|        8.5|  0.5|    0.5|       0.0|         0.0|                  0.3|         9.8|         2.0|                 0.0|       green|\n",
      "|       2|2021-02-01 11:59:12|2021-02-01 12:05:25|                 N|       1.0|         169|         119|            1.0|          1.2|        6.5|  0.5|    0.5|       0.0|         0.0|                  0.3|         7.8|         2.0|                 0.0|       green|\n",
      "|       2|2021-02-01 10:59:27|2021-02-01 10:59:34|                 N|       5.0|         136|         136|            1.0|         0.19|       10.0|  0.0|    0.0|       0.3|         0.0|                  0.3|        10.6|         1.0|                 0.0|       green|\n",
      "|       2|2021-02-01 11:09:11|2021-02-01 11:09:15|                 N|       5.0|         116|         116|            2.0|          0.0|        7.0|  0.0|    0.0|       0.0|         0.0|                  0.3|         7.3|         2.0|                 0.0|       green|\n",
      "|       2|2021-02-01 12:11:56|2021-02-01 12:17:39|                 N|       1.0|         119|         243|            1.0|         0.93|        6.0|  0.5|    0.5|       0.0|         0.0|                  0.3|         7.3|         2.0|                 0.0|       green|\n",
      "+--------+-------------------+-------------------+------------------+----------+------------+------------+---------------+-------------+-----------+-----+-------+----------+------------+---------------------+------------+------------+--------------------+------------+\n",
      "only showing top 20 rows\n",
      "\n"
     ]
    }
   ],
   "source": [
    "green = df_green_col.select(common_columns).withColumn('service_type', F.lit('green'))\n",
    "yellow = df_yellow_col.select(common_columns).withColumn('service_type', F.lit('yellow'))\n",
    "df_taxi = green.unionAll(yellow)\n",
    "df_taxi.show()"
   ]
  },
  {
   "cell_type": "markdown",
   "metadata": {},
   "source": [
    "## Practice"
   ]
  },
  {
   "cell_type": "markdown",
   "metadata": {},
   "source": [
    "### How many taxi trips were there on February 15?"
   ]
  },
  {
   "cell_type": "code",
   "execution_count": 35,
   "metadata": {},
   "outputs": [
    {
     "name": "stdout",
     "output_type": "stream",
     "text": [
      "+---------------+-----+\n",
      "|pickup_datetime|count|\n",
      "+---------------+-----+\n",
      "|     2021-02-15|45497|\n",
      "+---------------+-----+\n",
      "\n"
     ]
    }
   ],
   "source": [
    "df_q1 = df_taxi.withColumn('pickup_datetime',\n",
    "                           F.to_date(df_taxi.pickup_datetime)).filter((df_taxi['pickup_datetime']>='2021-02-15')&(df_taxi['pickup_datetime']<'2021-02-16')).select('pickup_datetime').groupBy('pickup_datetime').count()\n",
    "df_q1.show()"
   ]
  },
  {
   "cell_type": "markdown",
   "metadata": {},
   "source": [
    "in 15 February there were 45497 trips"
   ]
  },
  {
   "cell_type": "markdown",
   "metadata": {},
   "source": [
    "### Find the longest trips for each day"
   ]
  },
  {
   "cell_type": "code",
   "execution_count": 38,
   "metadata": {},
   "outputs": [
    {
     "name": "stdout",
     "output_type": "stream",
     "text": [
      "+---------------+------------------+\n",
      "|pickup_datetime|max(trip_distance)|\n",
      "+---------------+------------------+\n",
      "|     2021-02-01|             38.89|\n",
      "|     2021-02-02|             73.24|\n",
      "|     2021-02-03|         186079.73|\n",
      "|     2021-02-04|         102620.98|\n",
      "|     2021-02-05|          91134.16|\n",
      "|     2021-02-06|             48.35|\n",
      "|     2021-02-07|         186510.67|\n",
      "|     2021-02-08|         186617.92|\n",
      "|     2021-02-09|          89416.24|\n",
      "|     2021-02-10|           60382.7|\n",
      "|     2021-02-11|          43174.56|\n",
      "|     2021-02-12|          66659.27|\n",
      "|     2021-02-13|          54381.65|\n",
      "|     2021-02-14|         115928.92|\n",
      "|     2021-02-15|             52.89|\n",
      "|     2021-02-16|         221188.25|\n",
      "|     2021-02-17|         140145.44|\n",
      "|     2021-02-18|          29501.25|\n",
      "|     2021-02-19|             75.81|\n",
      "|     2021-02-20|         188054.03|\n",
      "+---------------+------------------+\n",
      "only showing top 20 rows\n",
      "\n"
     ]
    }
   ],
   "source": [
    "df_q2 = df_taxi.withColumn('pickup_datetime',\n",
    "                           F.to_date(df_taxi.pickup_datetime)).select('pickup_datetime','trip_distance').filter(df_taxi['pickup_datetime']>='2021-02-01').groupBy('pickup_datetime').max('trip_distance').sort('pickup_datetime')\n",
    "df_q2.show()"
   ]
  },
  {
   "cell_type": "markdown",
   "metadata": {},
   "source": [
    "### Find Top 5 Most frequent `dispatching_base_num` ?"
   ]
  },
  {
   "cell_type": "code",
   "execution_count": 39,
   "metadata": {},
   "outputs": [
    {
     "name": "stdout",
     "output_type": "stream",
     "text": [
      "+--------------------+-----+\n",
      "|dispatching_base_num|count|\n",
      "+--------------------+-----+\n",
      "|              B00856|35077|\n",
      "|              B01312|33089|\n",
      "|              B01145|31114|\n",
      "|              B02794|30397|\n",
      "|              B03016|29794|\n",
      "+--------------------+-----+\n",
      "\n"
     ]
    }
   ],
   "source": [
    "df_q3 = df_fhv.groupBy(\"dispatching_base_num\").count().sort('count',ascending=False).limit(5)\n",
    "df_q3.show()"
   ]
  },
  {
   "cell_type": "markdown",
   "metadata": {},
   "source": [
    "### Find Top 5 Most common location pairs (PUlocationID and DOlocationID) ?"
   ]
  },
  {
   "cell_type": "code",
   "execution_count": 41,
   "metadata": {},
   "outputs": [
    {
     "name": "stdout",
     "output_type": "stream",
     "text": [
      "+------------+------------+-----+\n",
      "|PUlocationID|DOlocationID|count|\n",
      "+------------+------------+-----+\n",
      "|       206.0|       206.0| 2374|\n",
      "|       221.0|       206.0| 2112|\n",
      "|       129.0|       129.0| 1902|\n",
      "|         7.0|         7.0| 1829|\n",
      "|       179.0|       179.0| 1736|\n",
      "+------------+------------+-----+\n",
      "\n"
     ]
    }
   ],
   "source": [
    "df_q4 = df_fhv.filter('PUlocationID is not NULL AND DOlocationID is not NULL').groupBy(['PUlocationID','DOlocationID']).count().sort('count',ascending=False).limit(5)\n",
    "df_q4.show()"
   ]
  },
  {
   "cell_type": "markdown",
   "metadata": {},
   "source": [
    "#### Write all of the result to BigQuery table (additional - point plus)"
   ]
  },
  {
   "cell_type": "code",
   "execution_count": null,
   "metadata": {},
   "outputs": [],
   "source": [
    "df_q1.write.format('bigquery').option('table','cleaver-1.taxi.answer_1').save()"
   ]
  },
  {
   "cell_type": "code",
   "execution_count": null,
   "metadata": {},
   "outputs": [],
   "source": [
    "df_q2.write.format('bigquery').option('table','cleaver-1.taxi.answer_1').save()"
   ]
  },
  {
   "cell_type": "code",
   "execution_count": null,
   "metadata": {},
   "outputs": [],
   "source": [
    "df_q3.write.format('bigquery').option('table','cleaver-1.taxi.answer_1').save()"
   ]
  },
  {
   "cell_type": "code",
   "execution_count": null,
   "metadata": {},
   "outputs": [],
   "source": [
    "df_q4.write.format('bigquery').option('table','cleaver-1.taxi.answer_1').save()"
   ]
  }
 ],
 "metadata": {
  "kernelspec": {
   "display_name": "Python 3.10.7 64-bit",
   "language": "python",
   "name": "python3"
  },
  "language_info": {
   "codemirror_mode": {
    "name": "ipython",
    "version": 3
   },
   "file_extension": ".py",
   "mimetype": "text/x-python",
   "name": "python",
   "nbconvert_exporter": "python",
   "pygments_lexer": "ipython3",
   "version": "3.10.7"
  },
  "vscode": {
   "interpreter": {
    "hash": "26de051ba29f2982a8de78e945f0abaf191376122a1563185a90213a26c5da77"
   }
  }
 },
 "nbformat": 4,
 "nbformat_minor": 4
}
